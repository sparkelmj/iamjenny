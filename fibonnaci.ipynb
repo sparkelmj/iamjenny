{
  "nbformat": 4,
  "nbformat_minor": 0,
  "metadata": {
    "colab": {
      "name": "fibonnaci.ipynb",
      "provenance": [],
      "collapsed_sections": [],
      "authorship_tag": "ABX9TyOxZYhS6iuVlLooa+IvPGUL",
      "include_colab_link": true
    },
    "kernelspec": {
      "name": "python3",
      "display_name": "Python 3"
    },
    "language_info": {
      "name": "python"
    }
  },
  "cells": [
    {
      "cell_type": "markdown",
      "metadata": {
        "id": "view-in-github",
        "colab_type": "text"
      },
      "source": [
        "<a href=\"https://colab.research.google.com/github/sparkelmj/iamjenny/blob/main/fibonnaci.ipynb\" target=\"_parent\"><img src=\"https://colab.research.google.com/assets/colab-badge.svg\" alt=\"Open In Colab\"/></a>"
      ]
    },
    {
      "cell_type": "markdown",
      "metadata": {
        "id": "VRk2vCUu6zEB"
      },
      "source": [
        "# **Fibonnaci using recursion**"
      ]
    },
    {
      "cell_type": "code",
      "metadata": {
        "colab": {
          "base_uri": "https://localhost:8080/"
        },
        "id": "KYJ-a5JU6Zq-",
        "outputId": "85ef6568-f62b-453f-8918-a2915ba7d934"
      },
      "source": [
        "def Fibonacci(n):\n",
        "    if n<0:\n",
        "        print(\"Incorrect input\")\n",
        "    # First Fibonacci number is 0\n",
        "    elif n==0:\n",
        "        return 0\n",
        "    # Second Fibonacci number is 1\n",
        "    elif n==1:\n",
        "        return 1\n",
        "    else:\n",
        "        return Fibonacci(n-1)+Fibonacci(n-2)\n",
        " \n",
        "print(Fibonacci(12))"
      ],
      "execution_count": null,
      "outputs": [
        {
          "output_type": "stream",
          "text": [
            "144\n"
          ],
          "name": "stdout"
        }
      ]
    },
    {
      "cell_type": "code",
      "metadata": {
        "id": "E6iG9iv27JyS"
      },
      "source": [
        ""
      ],
      "execution_count": null,
      "outputs": []
    },
    {
      "cell_type": "markdown",
      "metadata": {
        "id": "AQ8X228P7xiv"
      },
      "source": [
        "# **Fibonnaci in sequence**"
      ]
    },
    {
      "cell_type": "code",
      "metadata": {
        "colab": {
          "base_uri": "https://localhost:8080/"
        },
        "id": "HH7pPOzZ7ca3",
        "outputId": "94973e2d-45f6-45af-f2b5-7e5f7887ea17"
      },
      "source": [
        "def fib_rec(n):\n",
        "    if n == 1:\n",
        "        return [0]\n",
        "    elif n == 2:\n",
        "        return [0,1]\n",
        "    else:\n",
        "        x = fib_rec(n-1)\n",
        "        # the new element the sum of the last two elements\n",
        "        x.append(sum(x[:-3:-1]))\n",
        "        return x\n",
        "x=fib_rec(15)\n",
        "print(x)"
      ],
      "execution_count": null,
      "outputs": [
        {
          "output_type": "stream",
          "text": [
            "[0, 1, 1, 2, 3, 5, 8, 13, 21, 34, 55, 89, 144, 233, 377]\n"
          ],
          "name": "stdout"
        }
      ]
    }
  ]
}