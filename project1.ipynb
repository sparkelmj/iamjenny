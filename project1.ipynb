{
  "nbformat": 4,
  "nbformat_minor": 0,
  "metadata": {
    "colab": {
      "name": "project1.ipynb",
      "provenance": [],
      "collapsed_sections": [],
      "authorship_tag": "ABX9TyNvN1wlfGdCd3ReNMBzDo5f",
      "include_colab_link": true
    },
    "kernelspec": {
      "name": "python3",
      "display_name": "Python 3"
    },
    "language_info": {
      "name": "python"
    }
  },
  "cells": [
    {
      "cell_type": "markdown",
      "metadata": {
        "id": "view-in-github",
        "colab_type": "text"
      },
      "source": [
        "<a href=\"https://colab.research.google.com/github/sparkelmj/iamjenny/blob/main/project1.ipynb\" target=\"_parent\"><img src=\"https://colab.research.google.com/assets/colab-badge.svg\" alt=\"Open In Colab\"/></a>"
      ]
    },
    {
      "cell_type": "code",
      "metadata": {
        "id": "46gqUgzubT2N"
      },
      "source": [
        ""
      ],
      "execution_count": null,
      "outputs": []
    },
    {
      "cell_type": "markdown",
      "metadata": {
        "id": "RmuC3S__bXsd"
      },
      "source": [
        ""
      ]
    },
    {
      "cell_type": "code",
      "metadata": {
        "colab": {
          "base_uri": "https://localhost:8080/"
        },
        "id": "Qv0SUJDVbYL7",
        "outputId": "eb57d1ee-2792-4708-815e-933f37fe3392"
      },
      "source": [
        "#Project 1: Basic school administration tool\n",
        "import csv\n",
        "\n",
        "def write_into_csv(info_list):\n",
        "    with open('student_info.csv', 'w+', newline='')as csv_file:\n",
        "        writer = csv.writer(csv_file)\n",
        "\n",
        "        if csv_file.tell() == 0:\n",
        "            writer.writerow([\"Name\", \"Age\", \"Contact number\", \"E-Mail ID\"])\n",
        "        \n",
        "        writer.writerow(info_list)\n",
        "\n",
        "if __name__ == '__main__':\n",
        "     condition = True\n",
        "     student_num = 1\n",
        "\n",
        "     while(condition):\n",
        "        student_info = input(\"enter student information for student #{} in the following format (Name Age Contact_Number E-mail_ID): \".format(student_num))\n",
        "        \n",
        "\n",
        "        # split\n",
        "        student_info_list = student_info.split(' ')\n",
        "\n",
        "        print(\"Entered split up information is: \" + str(student_info_list))\n",
        "  \n",
        "        print(\"\\nThe entered information is -\\nName: {}\\nAge: {}\\nContact_number: {}\\nE-Mail ID: {}\"\n",
        "                .format(student_info_list[0], student_info_list[1], student_info_list[2], student_info_list[3]))\n",
        "        \n",
        "        choice_check = input(\"Is the entered information correct? (yes/no):\")\n",
        "\n",
        "        if choice_check == \"yes\":\n",
        "             write_into_csv(student_info_list)\n",
        "\n",
        "             condition_check=input(\"Enter (yes/no) if you want to enter information for another student: \")\n",
        "             if condition_check == \"yes\":\n",
        "                condition = True\n",
        "                student_num = student_num + 1\n",
        "             elif condition_check == \"no\":\n",
        "                condition = False\n",
        "        elif choice_check == \"no\":\n",
        "            print(\"\\nplease re-enter the values!\")"
      ],
      "execution_count": 5,
      "outputs": [
        {
          "output_type": "stream",
          "text": [
            "enter student information for student #1 in the following format (Name Age Contact_Number E-mail_ID): mary 18 9976567534 mky@gmail.com\n",
            "Entered split up information is: ['mary', '18', '9976567534', 'mky@gmail.com']\n",
            "\n",
            "The entered information is -\n",
            "Name: mary\n",
            "Age: 18\n",
            "Contact_number: 9976567534\n",
            "E-Mail ID: mky@gmail.com\n",
            "Is the entered information correct? (yes/no):yes\n",
            "Enter (yes/no) if you want to enter information for another student: yes\n",
            "enter student information for student #2 in the following format (Name Age Contact_Number E-mail_ID): jenny 22 9864456465 jmdenny@gmail.com\n",
            "Entered split up information is: ['jenny', '22', '9864456465', 'jmdenny@gmail.com']\n",
            "\n",
            "The entered information is -\n",
            "Name: jenny\n",
            "Age: 22\n",
            "Contact_number: 9864456465\n",
            "E-Mail ID: jmdenny@gmail.com\n",
            "Is the entered information correct? (yes/no):yes\n",
            "Enter (yes/no) if you want to enter information for another student: no\n"
          ],
          "name": "stdout"
        }
      ]
    }
  ]
}