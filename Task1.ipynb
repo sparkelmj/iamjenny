{
  "nbformat": 4,
  "nbformat_minor": 0,
  "metadata": {
    "colab": {
      "name": "Task1.ipynb",
      "provenance": [],
      "collapsed_sections": [],
      "authorship_tag": "ABX9TyNCay7PMXQ1pzoS5VwCMDzf",
      "include_colab_link": true
    },
    "kernelspec": {
      "name": "python3",
      "display_name": "Python 3"
    },
    "language_info": {
      "name": "python"
    }
  },
  "cells": [
    {
      "cell_type": "markdown",
      "metadata": {
        "id": "view-in-github",
        "colab_type": "text"
      },
      "source": [
        "<a href=\"https://colab.research.google.com/github/sparkelmj/iamjenny/blob/main/Task1.ipynb\" target=\"_parent\"><img src=\"https://colab.research.google.com/assets/colab-badge.svg\" alt=\"Open In Colab\"/></a>"
      ]
    },
    {
      "cell_type": "markdown",
      "metadata": {
        "id": "x-1XlDsMa1fH"
      },
      "source": [
        "## **Area of Circle**"
      ]
    },
    {
      "cell_type": "code",
      "metadata": {
        "colab": {
          "base_uri": "https://localhost:8080/"
        },
        "id": "I7pdcHiYa-m1",
        "outputId": "41097c72-57cd-44ab-bc60-0f86cc647e4e"
      },
      "source": [
        "from math import pi\n",
        "r= float(input (\"Input radius of circle :\"))\n",
        "print(\"The area of the circle with radius 1.1 is:\"+str(pi*r**2))"
      ],
      "execution_count": 11,
      "outputs": [
        {
          "output_type": "stream",
          "text": [
            "Input radius of circle :1.1\n",
            "The area of the circle with radius 1.1 is:3.8013271108436504\n"
          ],
          "name": "stdout"
        }
      ]
    },
    {
      "cell_type": "markdown",
      "metadata": {
        "id": "DnRdGiTkhEFd"
      },
      "source": [
        "## **Filename and Extension**"
      ]
    },
    {
      "cell_type": "code",
      "metadata": {
        "colab": {
          "base_uri": "https://localhost:8080/"
        },
        "id": "G1YwX_kHhXks",
        "outputId": "670e94b4-2f7f-4a03-d8fb-7d266a035309"
      },
      "source": [
        "filename =input(\"Input the Filename:\")\n",
        "f_extns=filename.split(\".\")\n",
        "print(\"The extension of the file is: \" + repr(f_extns[-1]))"
      ],
      "execution_count": 5,
      "outputs": [
        {
          "output_type": "stream",
          "text": [
            "Input the Filename:abc.python\n",
            "The extension of the file is: 'python'\n"
          ],
          "name": "stdout"
        }
      ]
    }
  ]
}