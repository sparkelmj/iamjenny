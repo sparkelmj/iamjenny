{
  "nbformat": 4,
  "nbformat_minor": 0,
  "metadata": {
    "colab": {
      "name": "DICT.ipynb",
      "provenance": [],
      "collapsed_sections": [],
      "authorship_tag": "ABX9TyOfcS2Jiw/Mgin8zSZJUeCT",
      "include_colab_link": true
    },
    "kernelspec": {
      "name": "python3",
      "display_name": "Python 3"
    },
    "language_info": {
      "name": "python"
    }
  },
  "cells": [
    {
      "cell_type": "markdown",
      "metadata": {
        "id": "view-in-github",
        "colab_type": "text"
      },
      "source": [
        "<a href=\"https://colab.research.google.com/github/sparkelmj/iamjenny/blob/main/DICT.ipynb\" target=\"_parent\"><img src=\"https://colab.research.google.com/assets/colab-badge.svg\" alt=\"Open In Colab\"/></a>"
      ]
    },
    {
      "cell_type": "markdown",
      "metadata": {
        "id": "A-T8EMK-77mA"
      },
      "source": [
        "# USING DICTIONARIES"
      ]
    },
    {
      "cell_type": "code",
      "metadata": {
        "colab": {
          "base_uri": "https://localhost:8080/"
        },
        "id": "uM1kUndhI_Gf",
        "outputId": "f38fb1c2-d98f-4705-c92e-3d41d31903eb"
      },
      "source": [
        "x= input('please enter a string:')\n",
        "def most_frequent(string):\n",
        "    d=dict()\n",
        "    for key in string:\n",
        "      if key not in d:\n",
        "        d[key]=1\n",
        "      else:\n",
        "        d[key] += 1\n",
        "    return d\n",
        "print (most_frequent(x))        "
      ],
      "execution_count": null,
      "outputs": [
        {
          "output_type": "stream",
          "text": [
            "please enter a string:mississippi\n",
            "{'m': 1, 'i': 4, 's': 4, 'p': 2}\n"
          ],
          "name": "stdout"
        }
      ]
    }
  ]
}