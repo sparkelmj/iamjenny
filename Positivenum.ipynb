{
  "nbformat": 4,
  "nbformat_minor": 0,
  "metadata": {
    "colab": {
      "name": "Positivenum.ipynb",
      "provenance": [],
      "collapsed_sections": [],
      "authorship_tag": "ABX9TyNT92dy0VFMvMy5XmwMVYZ6",
      "include_colab_link": true
    },
    "kernelspec": {
      "name": "python3",
      "display_name": "Python 3"
    },
    "language_info": {
      "name": "python"
    }
  },
  "cells": [
    {
      "cell_type": "markdown",
      "metadata": {
        "id": "view-in-github",
        "colab_type": "text"
      },
      "source": [
        "<a href=\"https://colab.research.google.com/github/sparkelmj/iamjenny/blob/main/Positivenum.ipynb\" target=\"_parent\"><img src=\"https://colab.research.google.com/assets/colab-badge.svg\" alt=\"Open In Colab\"/></a>"
      ]
    },
    {
      "cell_type": "markdown",
      "metadata": {
        "id": "gttvhiJSqui4"
      },
      "source": [
        "# PRINT POSITIVE NUMBERS"
      ]
    },
    {
      "cell_type": "code",
      "metadata": {
        "colab": {
          "base_uri": "https://localhost:8080/"
        },
        "id": "CVBgHvTbqkzb",
        "outputId": "f7fd24cb-2199-40aa-a4ea-cb9f4097e3e4"
      },
      "source": [
        "nums=[12,-7,5,64,-14]\n",
        "print( \"list1-\",nums)\n",
        "new_nums=list(filter(lambda x: x>0,nums))\n",
        "print(new_nums)"
      ],
      "execution_count": null,
      "outputs": [
        {
          "output_type": "stream",
          "text": [
            "list1- [12, -7, 5, 64, -14]\n",
            "[12, 5, 64]\n"
          ],
          "name": "stdout"
        }
      ]
    },
    {
      "cell_type": "code",
      "metadata": {
        "colab": {
          "base_uri": "https://localhost:8080/"
        },
        "id": "4bM-_Z4iqr-w",
        "outputId": "aca9fba5-1da6-4145-e48c-e28567b3c604"
      },
      "source": [
        "nums=[12,14,-95,3]\n",
        "print( \"list2-\",nums)\n",
        "new_nums=list(filter(lambda x: x>0,nums))\n",
        "print(new_nums)\n"
      ],
      "execution_count": null,
      "outputs": [
        {
          "output_type": "stream",
          "text": [
            "list2- [12, 14, -95, 3]\n",
            "[12, 14, 3]\n"
          ],
          "name": "stdout"
        }
      ]
    }
  ]
}