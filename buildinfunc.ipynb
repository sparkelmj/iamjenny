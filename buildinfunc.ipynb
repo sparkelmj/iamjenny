{
  "nbformat": 4,
  "nbformat_minor": 0,
  "metadata": {
    "colab": {
      "name": "buildinfunc.ipynb",
      "provenance": [],
      "collapsed_sections": []
    },
    "kernelspec": {
      "name": "python3",
      "display_name": "Python 3"
    },
    "language_info": {
      "name": "python"
    }
  },
  "cells": [
    {
      "cell_type": "markdown",
      "metadata": {
        "id": "yKymtgdQRORx"
      },
      "source": [
        "## Special built in methods"
      ]
    },
    {
      "cell_type": "markdown",
      "metadata": {
        "id": "EztPmazWRKj9"
      },
      "source": [
        ""
      ]
    },
    {
      "cell_type": "code",
      "metadata": {
        "colab": {
          "base_uri": "https://localhost:8080/"
        },
        "id": "XkUQXH1XRW2r",
        "outputId": "47d1f5a3-4af8-4fc9-a2e8-febd41cd111b"
      },
      "source": [
        "print(\"hello everyone!\")"
      ],
      "execution_count": null,
      "outputs": [
        {
          "output_type": "stream",
          "text": [
            "hello everyone!\n"
          ],
          "name": "stdout"
        }
      ]
    },
    {
      "cell_type": "code",
      "metadata": {
        "colab": {
          "base_uri": "https://localhost:8080/"
        },
        "id": "2mpOGnPBR2kI",
        "outputId": "596b1aad-2fe5-4a0d-d77b-38186cc9c061"
      },
      "source": [
        "help(round)"
      ],
      "execution_count": null,
      "outputs": [
        {
          "output_type": "stream",
          "text": [
            "Help on built-in function round in module builtins:\n",
            "\n",
            "round(number, ndigits=None)\n",
            "    Round a number to a given precision in decimal digits.\n",
            "    \n",
            "    The return value is an integer if ndigits is omitted or None.  Otherwise\n",
            "    the return value has the same type as the number.  ndigits may be negative.\n",
            "\n"
          ],
          "name": "stdout"
        }
      ]
    },
    {
      "cell_type": "code",
      "metadata": {
        "colab": {
          "base_uri": "https://localhost:8080/"
        },
        "id": "YOcboCMdR_GK",
        "outputId": "11c90af0-650b-4afc-b969-215f89e7f6a1"
      },
      "source": [
        "numbers = {2.2, 3.3, 4.4, 7.7}\n",
        "result = type(numbers)\n",
        "print(result)\n"
      ],
      "execution_count": null,
      "outputs": [
        {
          "output_type": "stream",
          "text": [
            "<class 'set'>\n"
          ],
          "name": "stdout"
        }
      ]
    },
    {
      "cell_type": "code",
      "metadata": {
        "colab": {
          "base_uri": "https://localhost:8080/"
        },
        "id": "npCcflpRS11H",
        "outputId": "dcbfe46c-d130-4308-ce56-10117f5df9ca"
      },
      "source": [
        "class Foo:\n",
        "    b = 5\n",
        "dummyFoo = Foo()\n",
        "print('id of dummyFoo =',id(dummyFoo))"
      ],
      "execution_count": null,
      "outputs": [
        {
          "output_type": "stream",
          "text": [
            "id of dummyFoo = 140556750015952\n"
          ],
          "name": "stdout"
        }
      ]
    },
    {
      "cell_type": "code",
      "metadata": {
        "colab": {
          "base_uri": "https://localhost:8080/"
        },
        "id": "AOZmtbGoTk9A",
        "outputId": "d3a8bff5-fe25-44b6-a7a6-11a80904c7f4"
      },
      "source": [
        "languages = ['Python', 'Java', 'JavaScript']\n",
        "length = len(languages)\n",
        "print(length)\n"
      ],
      "execution_count": null,
      "outputs": [
        {
          "output_type": "stream",
          "text": [
            "3\n"
          ],
          "name": "stdout"
        }
      ]
    },
    {
      "cell_type": "code",
      "metadata": {
        "colab": {
          "base_uri": "https://localhost:8080/"
        },
        "id": "sanldaqjT5UF",
        "outputId": "cd409b2f-35e9-41b9-b886-ebe184a622e2"
      },
      "source": [
        "number = -44\n",
        "abslnum = abs(number)\n",
        "print(abslnum)\n"
      ],
      "execution_count": null,
      "outputs": [
        {
          "output_type": "stream",
          "text": [
            "44\n"
          ],
          "name": "stdout"
        }
      ]
    },
    {
      "cell_type": "code",
      "metadata": {
        "colab": {
          "base_uri": "https://localhost:8080/"
        },
        "id": "Q4lUKVwZUeaM",
        "outputId": "f86f9f12-c587-4674-9079-c88543e74291"
      },
      "source": [
        "num = [88, 3, 10, -4, 2]\n",
        "min_num= min(num)\n",
        "print(min_num)"
      ],
      "execution_count": null,
      "outputs": [
        {
          "output_type": "stream",
          "text": [
            "-4\n"
          ],
          "name": "stdout"
        }
      ]
    },
    {
      "cell_type": "code",
      "metadata": {
        "colab": {
          "base_uri": "https://localhost:8080/"
        },
        "id": "jdGVmXa9UyYs",
        "outputId": "d5f9c6b3-4463-4591-df04-6294fad79741"
      },
      "source": [
        "num = [99, 34, 111, -4, 287]\n",
        "max_num = max(num)\n",
        "print(max_num)"
      ],
      "execution_count": null,
      "outputs": [
        {
          "output_type": "stream",
          "text": [
            "287\n"
          ],
          "name": "stdout"
        }
      ]
    },
    {
      "cell_type": "code",
      "metadata": {
        "colab": {
          "base_uri": "https://localhost:8080/"
        },
        "id": "No_C6d20VBok",
        "outputId": "80e8f5d8-82e9-4bcd-e828-ccd306b185f7"
      },
      "source": [
        "# integer\n",
        "print(\"int(144) is:\", int(144))\n",
        "# float\n",
        "print(\"int(144.23) is:\", int(144.23))\n",
        "# string\n",
        "print(\"int('144') is:\", int('144'))"
      ],
      "execution_count": null,
      "outputs": [
        {
          "output_type": "stream",
          "text": [
            "int(144) is: 144\n",
            "int(144.23) is: 144\n",
            "int('144') is: 144\n"
          ],
          "name": "stdout"
        }
      ]
    },
    {
      "cell_type": "code",
      "metadata": {
        "colab": {
          "base_uri": "https://localhost:8080/"
        },
        "id": "T7QVqu_9VYTz",
        "outputId": "77bf23d2-533d-41cd-a22f-d71856aaed89"
      },
      "source": [
        "print(tuple(range(10)))"
      ],
      "execution_count": null,
      "outputs": [
        {
          "output_type": "stream",
          "text": [
            "(0, 1, 2, 3, 4, 5, 6, 7, 8, 9)\n"
          ],
          "name": "stdout"
        }
      ]
    },
    {
      "cell_type": "code",
      "metadata": {
        "colab": {
          "base_uri": "https://localhost:8080/"
        },
        "id": "AKKnulkMVrSs",
        "outputId": "76a0f0ae-433d-4de8-b5ce-9d92ad418c19"
      },
      "source": [
        "int_number =343\n",
        "float_number = float(int_number)\n",
        "print(float_number)"
      ],
      "execution_count": null,
      "outputs": [
        {
          "output_type": "stream",
          "text": [
            "343.0\n"
          ],
          "name": "stdout"
        }
      ]
    },
    {
      "cell_type": "code",
      "metadata": {
        "colab": {
          "base_uri": "https://localhost:8080/"
        },
        "id": "dvlPWE8LWoC7",
        "outputId": "45645129-08b0-4b94-b624-c4f9ad703f2e"
      },
      "source": [
        "s = str(\"welcome to python\")\n",
        "print(s)"
      ],
      "execution_count": null,
      "outputs": [
        {
          "output_type": "stream",
          "text": [
            "welcome to python\n"
          ],
          "name": "stdout"
        }
      ]
    },
    {
      "cell_type": "code",
      "metadata": {
        "colab": {
          "base_uri": "https://localhost:8080/"
        },
        "id": "0ZbQpFmIWogt",
        "outputId": "a9e659aa-52dc-422d-c20d-3074bfb8febd"
      },
      "source": [
        "text = 'Python'\n",
        "text_list = list(text)\n",
        "print(text_list)\n"
      ],
      "execution_count": null,
      "outputs": [
        {
          "output_type": "stream",
          "text": [
            "['P', 'y', 't', 'h', 'o', 'n']\n"
          ],
          "name": "stdout"
        }
      ]
    },
    {
      "cell_type": "code",
      "metadata": {
        "colab": {
          "base_uri": "https://localhost:8080/"
        },
        "id": "UEIPSyuGW0H-",
        "outputId": "4285d382-82cc-46e8-b950-da04fa900008"
      },
      "source": [
        "numbers = [12,66,43,3,24]\n",
        "sortinglist= sorted(numbers)\n",
        "print(sortinglist)"
      ],
      "execution_count": null,
      "outputs": [
        {
          "output_type": "stream",
          "text": [
            "[3, 12, 24, 43, 66]\n"
          ],
          "name": "stdout"
        }
      ]
    },
    {
      "cell_type": "code",
      "metadata": {
        "colab": {
          "base_uri": "https://localhost:8080/"
        },
        "id": "VomwgmMhXIOx",
        "outputId": "bdbbb9ed-ade6-484a-e24c-f2ff1af1c232"
      },
      "source": [
        "mylist = (1, 2, 4, 3, 5)\n",
        "print(tuple(reversed(mylist)))"
      ],
      "execution_count": null,
      "outputs": [
        {
          "output_type": "stream",
          "text": [
            "(5, 3, 4, 2, 1)\n"
          ],
          "name": "stdout"
        }
      ]
    },
    {
      "cell_type": "code",
      "metadata": {
        "colab": {
          "base_uri": "https://localhost:8080/"
        },
        "id": "Z45HAxOFXhoh",
        "outputId": "7dc17d11-7494-42ff-de26-8f2ef361a41a"
      },
      "source": [
        "number = 45.88\n",
        "rounded_number = round(number)\n",
        "print(rounded_number)"
      ],
      "execution_count": null,
      "outputs": [
        {
          "output_type": "stream",
          "text": [
            "46\n"
          ],
          "name": "stdout"
        }
      ]
    }
  ]
}